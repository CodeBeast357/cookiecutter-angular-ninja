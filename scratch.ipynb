{
 "cells": [
  {
   "cell_type": "code",
   "execution_count": 1,
   "id": "9fad1186-14e9-497d-811c-49d39b243191",
   "metadata": {},
   "outputs": [],
   "source": [
    "import os, sys\n",
    "sys.path.insert(0, './{{ cookiecutter.python_slug }}/')\n",
    "os.environ[\"DJANGO_SETTINGS_MODULE\"] =\"{{ cookiecutter.python_slug }}.settings.jupyter\"\n",
    "os.environ[\"DJANGO_ALLOW_ASYNC_UNSAFE\"] = \"true\"\n",
    "import django\n",
    "django.setup()"
   ]
  },
  {
   "cell_type": "code",
   "execution_count": 2,
   "id": "a1986d31-9337-4af3-bbd1-ede971cf36d8",
   "metadata": {},
   "outputs": [],
   "source": [
    "from generic_api.models import BlogPost"
   ]
  },
  {
   "cell_type": "code",
   "execution_count": 3,
   "id": "e5a93bd4-8478-4b1d-9288-9b3f4ffb7097",
   "metadata": {},
   "outputs": [],
   "source": [
    "# Create a source account if it doesn't exist already for running test logic.\n",
    "if len(BlogPost.objects.all()) < 1:\n",
    "    blog = BlogPost(\n",
    "        title = \"My First Blog Post!\",\n",
    "        body = \"This is so exiting...I'm posting\\nmy first blog ever!!!\"\n",
    "    )\n",
    "    blog.save()"
   ]
  }
 ],
 "metadata": {
  "kernelspec": {
   "display_name": "Ad Hoc Analytics API Kernel",
   "language": "python",
   "name": "django_extensions"
  },
  "language_info": {
   "codemirror_mode": {
    "name": "ipython",
    "version": 3
   },
   "file_extension": ".py",
   "mimetype": "text/x-python",
   "name": "python",
   "nbconvert_exporter": "python",
   "pygments_lexer": "ipython3",
   "version": "3.8.10"
  }
 },
 "nbformat": 4,
 "nbformat_minor": 5
}
