{
 "cells": [
  {
   "cell_type": "code",
   "execution_count": 1,
   "id": "9fad1186-14e9-497d-811c-49d39b243191",
   "metadata": {},
   "outputs": [],
   "source": [
    "import os, sys\n",
    "sys.path.insert(0, './generic_api/')\n",
    "os.environ[\"DJANGO_SETTINGS_MODULE\"] =\"generic_api.settings.jupyter\"\n",
    "os.environ[\"DJANGO_ALLOW_ASYNC_UNSAFE\"] = \"true\"\n",
    "import django\n",
    "django.setup()"
   ]
  },
  {
   "cell_type": "code",
   "execution_count": 2,
   "id": "a1986d31-9337-4af3-bbd1-ede971cf36d8",
   "metadata": {},
   "outputs": [],
   "source": [
    "from generic_api.models import SourceAccount, ReaderAccount\n",
    "from generic_api.utils.snowflake import SnowRunner"
   ]
  },
  {
   "cell_type": "code",
   "execution_count": 3,
   "id": "e5a93bd4-8478-4b1d-9288-9b3f4ffb7097",
   "metadata": {},
   "outputs": [],
   "source": [
    "# Create a source account if it doesn't exist already for running test logic.\n",
    "if len(SourceAccount.objects.all()) < 1:\n",
    "    source = SourceAccount(\n",
    "        username = os.environ.get('SNOWFLAKE_SOURCE_USERNAME'),\n",
    "        password = os.environ.get('SNOWFLAKE_SOURCE_PASSWORD'),\n",
    "        role = \"ACCOUNTADMIN\",\n",
    "        warehouse = \"LONG_RUNNING\",\n",
    "        account_url = \"ph34493.us-east-1.privatelink\",\n",
    "    )\n",
    "    source.save()"
   ]
  },
  {
   "cell_type": "code",
   "execution_count": null,
   "id": "ccd82011-f796-4ca7-a6c2-f996d49c2772",
   "metadata": {},
   "outputs": [],
   "source": [
    "source = SourceAccount.objects.first()\n",
    "\n",
    "source_runner = SnowRunner(\n",
    "    source.username,\n",
    "    source.account_url,\n",
    "    source.password,\n",
    "    warehouse=source.warehouse,\n",
    "    role=source.role\n",
    ")"
   ]
  },
  {
   "cell_type": "code",
   "execution_count": 63,
   "id": "1c82dcf2-1312-46f4-9e1f-b67d23bb5650",
   "metadata": {},
   "outputs": [],
   "source": [
    "reader = ReaderAccount.objects.get(id=2)"
   ]
  },
  {
   "cell_type": "code",
   "execution_count": 64,
   "id": "2bebaf22-4ab7-4e80-9136-8acb19544d80",
   "metadata": {},
   "outputs": [],
   "source": [
    "reader.source_company_database = \"ARTEMIS_TEST_COMPANY\"\n",
    "reader.save()\n"
   ]
  },
  {
   "cell_type": "code",
   "execution_count": null,
   "id": "193adb38-1cff-4504-8a5e-f0f088bf5454",
   "metadata": {},
   "outputs": [],
   "source": [
    "reader_runner = SnowRunner(\n",
    "    reader.username,\n",
    "    reader.account_url.strip('https://').strip('.snowflakecomputing.com'),\n",
    "    reader.password,\n",
    "    role=reader.role,\n",
    "    warehouse=reader.warehouse,\n",
    ")"
   ]
  }
 ],
 "metadata": {
  "kernelspec": {
   "display_name": "Ad Hoc Analytics API Kernel",
   "language": "python",
   "name": "django_extensions"
  },
  "language_info": {
   "codemirror_mode": {
    "name": "ipython",
    "version": 3
   },
   "file_extension": ".py",
   "mimetype": "text/x-python",
   "name": "python",
   "nbconvert_exporter": "python",
   "pygments_lexer": "ipython3",
   "version": "3.8.10"
  }
 },
 "nbformat": 4,
 "nbformat_minor": 5
}
